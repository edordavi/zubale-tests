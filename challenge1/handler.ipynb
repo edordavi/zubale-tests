{
 "cells": [
  {
   "cell_type": "code",
   "execution_count": 58,
   "metadata": {},
   "outputs": [],
   "source": [
    "import pandas as pd\n",
    "\n",
    "products = pd.read_csv('products.csv')\n",
    "orders = pd.read_csv('orders.csv')\n",
    "\n",
    "products.rename(columns={'id':'product_id','name':'product_name'},inplace=True)\n",
    "orders.rename(columns={'id':'order_id','created_date':'order_created_date'},inplace=True)\n",
    "\n",
    "product_orders = orders.merge(products, left_on='product_id', right_on='product_id', suffixes=['_orders', '_products'])\n",
    "product_orders['total_price'] = product_orders['quantity'] * product_orders['price']\n",
    "\n",
    "summary = product_orders[['order_created_date', 'order_id', 'product_name','quantity','total_price']]\n",
    "\n",
    "# summary.to_csv('order_full_information.csv',index=False)"
   ]
  },
  {
   "cell_type": "code",
   "execution_count": 102,
   "metadata": {},
   "outputs": [
    {
     "data": {
      "text/html": [
       "<div>\n",
       "<style scoped>\n",
       "    .dataframe tbody tr th:only-of-type {\n",
       "        vertical-align: middle;\n",
       "    }\n",
       "\n",
       "    .dataframe tbody tr th {\n",
       "        vertical-align: top;\n",
       "    }\n",
       "\n",
       "    .dataframe thead th {\n",
       "        text-align: right;\n",
       "    }\n",
       "</style>\n",
       "<table border=\"1\" class=\"dataframe\">\n",
       "  <thead>\n",
       "    <tr style=\"text-align: right;\">\n",
       "      <th></th>\n",
       "      <th>order_id</th>\n",
       "      <th>product_id</th>\n",
       "      <th>quantity</th>\n",
       "      <th>order_created_date</th>\n",
       "      <th>product_name</th>\n",
       "      <th>category</th>\n",
       "      <th>price</th>\n",
       "      <th>total_price</th>\n",
       "    </tr>\n",
       "  </thead>\n",
       "  <tbody>\n",
       "    <tr>\n",
       "      <th>0</th>\n",
       "      <td>1</td>\n",
       "      <td>11</td>\n",
       "      <td>1</td>\n",
       "      <td>'2024-12-01'</td>\n",
       "      <td>Product_11</td>\n",
       "      <td>Dresses</td>\n",
       "      <td>69.06</td>\n",
       "      <td>69.06</td>\n",
       "    </tr>\n",
       "    <tr>\n",
       "      <th>1</th>\n",
       "      <td>2</td>\n",
       "      <td>17</td>\n",
       "      <td>2</td>\n",
       "      <td>'2024-12-01'</td>\n",
       "      <td>Product_17</td>\n",
       "      <td>Shirts</td>\n",
       "      <td>98.51</td>\n",
       "      <td>197.02</td>\n",
       "    </tr>\n",
       "    <tr>\n",
       "      <th>2</th>\n",
       "      <td>3</td>\n",
       "      <td>19</td>\n",
       "      <td>1</td>\n",
       "      <td>'2024-12-01'</td>\n",
       "      <td>Product_19</td>\n",
       "      <td>Shirts</td>\n",
       "      <td>51.94</td>\n",
       "      <td>51.94</td>\n",
       "    </tr>\n",
       "    <tr>\n",
       "      <th>3</th>\n",
       "      <td>4</td>\n",
       "      <td>12</td>\n",
       "      <td>1</td>\n",
       "      <td>'2024-12-01'</td>\n",
       "      <td>Product_12</td>\n",
       "      <td>Jackets</td>\n",
       "      <td>50.99</td>\n",
       "      <td>50.99</td>\n",
       "    </tr>\n",
       "    <tr>\n",
       "      <th>4</th>\n",
       "      <td>5</td>\n",
       "      <td>11</td>\n",
       "      <td>2</td>\n",
       "      <td>'2024-12-01'</td>\n",
       "      <td>Product_11</td>\n",
       "      <td>Dresses</td>\n",
       "      <td>69.06</td>\n",
       "      <td>138.12</td>\n",
       "    </tr>\n",
       "  </tbody>\n",
       "</table>\n",
       "</div>"
      ],
      "text/plain": [
       "   order_id  product_id  quantity order_created_date product_name category  \\\n",
       "0         1          11         1       '2024-12-01'   Product_11  Dresses   \n",
       "1         2          17         2       '2024-12-01'   Product_17   Shirts   \n",
       "2         3          19         1       '2024-12-01'   Product_19   Shirts   \n",
       "3         4          12         1       '2024-12-01'   Product_12  Jackets   \n",
       "4         5          11         2       '2024-12-01'   Product_11  Dresses   \n",
       "\n",
       "   price  total_price  \n",
       "0  69.06        69.06  \n",
       "1  98.51       197.02  \n",
       "2  51.94        51.94  \n",
       "3  50.99        50.99  \n",
       "4  69.06       138.12  "
      ]
     },
     "execution_count": 102,
     "metadata": {},
     "output_type": "execute_result"
    }
   ],
   "source": [
    "product_orders.head(5)"
   ]
  },
  {
   "cell_type": "code",
   "execution_count": null,
   "metadata": {},
   "outputs": [
    {
     "name": "stdout",
     "output_type": "stream",
     "text": [
      "{'data': {'AUD': 1.5916402491, 'BGN': 1.8854002116, 'BRL': 6.0316710333, 'CAD': 1.4301302124, 'CHF': 0.9059401676, 'CNY': 7.3015014466, 'CZK': 24.130413536, 'DKK': 7.158261156, 'EUR': 0.9592001342, 'GBP': 0.8108901305, 'HKD': 7.7780309866, 'HRK': 6.864540822, 'HUF': 393.9913856045, 'IDR': 16341.773982273, 'ILS': 3.5613503746, 'INR': 86.1768491971, 'ISK': 140.5921355073, 'JPY': 155.2342784487, 'KRW': 1437.0187639843, 'MXN': 20.4840229941, 'MYR': 4.4917707674, 'NOK': 11.2893115651, 'NZD': 1.7597201944, 'PHP': 58.1967602648, 'PLN': 4.0758405743, 'RON': 4.7742705583, 'RUB': 101.5009642724, 'SEK': 11.0000619443, 'SGD': 1.3534702584, 'THB': 34.1161334428, 'TRY': 35.5419136925, 'USD': 1, 'ZAR': 18.5331121989}}\n"
     ]
    }
   ],
   "source": [
    "import challenge1\n",
    "import requests\n",
    "\n",
    "\n",
    "\n",
    "# print(challenge1.challenge1())\n",
    "\n",
    "response = requests.get(url='https://api.freecurrencyapi.com/v1/latest?apikey=fca_live_cFEkStWOPsZ1U3rSNaIrW2q04tR3eXCZ3iaWbpCQ')\n",
    "\n",
    "print(response.json())\n",
    "\n"
   ]
  },
  {
   "cell_type": "code",
   "execution_count": 57,
   "metadata": {},
   "outputs": [
    {
     "data": {
      "text/plain": [
       "6.0316710333"
      ]
     },
     "execution_count": 57,
     "metadata": {},
     "output_type": "execute_result"
    }
   ],
   "source": [
    "response.json()['data']['BRL']"
   ]
  },
  {
   "cell_type": "code",
   "execution_count": 111,
   "metadata": {},
   "outputs": [],
   "source": [
    "summary_grouped_by_date = summary.groupby(by='order_created_date',as_index=False)\n",
    "\n",
    "highest_orders_day = summary_grouped_by_date.count().sort_values(by = 'order_id' , ascending=False)[['order_created_date']].head(1)\n",
    "\n",
    "highest_orders_day.rename(columns={'order_created_date':'##date_with_most_orders','order_id':'orders_amount'},inplace=True)\n",
    "\n",
    "highest_orders_day.to_csv('kpi_product_orders.csv',index=False)\n"
   ]
  },
  {
   "cell_type": "code",
   "execution_count": 92,
   "metadata": {},
   "outputs": [
    {
     "data": {
      "text/html": [
       "<div>\n",
       "<style scoped>\n",
       "    .dataframe tbody tr th:only-of-type {\n",
       "        vertical-align: middle;\n",
       "    }\n",
       "\n",
       "    .dataframe tbody tr th {\n",
       "        vertical-align: top;\n",
       "    }\n",
       "\n",
       "    .dataframe thead th {\n",
       "        text-align: right;\n",
       "    }\n",
       "</style>\n",
       "<table border=\"1\" class=\"dataframe\">\n",
       "  <thead>\n",
       "    <tr style=\"text-align: right;\">\n",
       "      <th></th>\n",
       "      <th>order_created_date</th>\n",
       "      <th>order_id</th>\n",
       "      <th>product_name</th>\n",
       "      <th>quantity</th>\n",
       "      <th>total_price</th>\n",
       "    </tr>\n",
       "  </thead>\n",
       "  <tbody>\n",
       "    <tr>\n",
       "      <th>0</th>\n",
       "      <td>'2024-12-01'</td>\n",
       "      <td>1</td>\n",
       "      <td>Product_11</td>\n",
       "      <td>1</td>\n",
       "      <td>69.06</td>\n",
       "    </tr>\n",
       "    <tr>\n",
       "      <th>1</th>\n",
       "      <td>'2024-12-01'</td>\n",
       "      <td>2</td>\n",
       "      <td>Product_17</td>\n",
       "      <td>2</td>\n",
       "      <td>197.02</td>\n",
       "    </tr>\n",
       "    <tr>\n",
       "      <th>2</th>\n",
       "      <td>'2024-12-01'</td>\n",
       "      <td>3</td>\n",
       "      <td>Product_19</td>\n",
       "      <td>1</td>\n",
       "      <td>51.94</td>\n",
       "    </tr>\n",
       "    <tr>\n",
       "      <th>3</th>\n",
       "      <td>'2024-12-01'</td>\n",
       "      <td>4</td>\n",
       "      <td>Product_12</td>\n",
       "      <td>1</td>\n",
       "      <td>50.99</td>\n",
       "    </tr>\n",
       "    <tr>\n",
       "      <th>4</th>\n",
       "      <td>'2024-12-01'</td>\n",
       "      <td>5</td>\n",
       "      <td>Product_11</td>\n",
       "      <td>2</td>\n",
       "      <td>138.12</td>\n",
       "    </tr>\n",
       "  </tbody>\n",
       "</table>\n",
       "</div>"
      ],
      "text/plain": [
       "  order_created_date  order_id product_name  quantity  total_price\n",
       "0       '2024-12-01'         1   Product_11         1        69.06\n",
       "1       '2024-12-01'         2   Product_17         2       197.02\n",
       "2       '2024-12-01'         3   Product_19         1        51.94\n",
       "3       '2024-12-01'         4   Product_12         1        50.99\n",
       "4       '2024-12-01'         5   Product_11         2       138.12"
      ]
     },
     "execution_count": 92,
     "metadata": {},
     "output_type": "execute_result"
    }
   ],
   "source": [
    "summary.head(5)"
   ]
  },
  {
   "cell_type": "code",
   "execution_count": 112,
   "metadata": {},
   "outputs": [],
   "source": [
    "summary_grouped_by_product = summary.groupby(by='product_name',as_index=False)\n",
    "\n",
    "most_sold_products = summary_grouped_by_product.sum().sort_values(by = 'quantity' , ascending=False)[['product_name','total_price']].head(1)\n",
    "\n",
    "most_sold_products.rename(columns={'product_name':'##most_sold_product','total_price':'sales_value'},inplace=True)\n",
    "\n",
    "most_sold_products.to_csv('kpi_product_orders.csv',index=False,mode='a')"
   ]
  },
  {
   "cell_type": "code",
   "execution_count": 113,
   "metadata": {},
   "outputs": [],
   "source": [
    "summary_grouped_by_category = product_orders.groupby(by='category',as_index=False)\n",
    "\n",
    "most_sold_categorys = summary_grouped_by_category.sum().sort_values(by = 'quantity' , ascending=False)[['category','quantity']].head(3)\n",
    "\n",
    "most_sold_categorys.rename(columns={'category':'##top_3_most_demanded_categories','quantity':'demanded_quantity'},inplace=True)\n",
    "\n",
    "most_sold_categorys.to_csv('kpi_product_orders.csv',index=False,mode='a')"
   ]
  }
 ],
 "metadata": {
  "kernelspec": {
   "display_name": "Python 3",
   "language": "python",
   "name": "python3"
  },
  "language_info": {
   "codemirror_mode": {
    "name": "ipython",
    "version": 3
   },
   "file_extension": ".py",
   "mimetype": "text/x-python",
   "name": "python",
   "nbconvert_exporter": "python",
   "pygments_lexer": "ipython3",
   "version": "3.12.8"
  }
 },
 "nbformat": 4,
 "nbformat_minor": 2
}
